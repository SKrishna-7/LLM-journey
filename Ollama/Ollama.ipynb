{
 "cells": [
  {
   "cell_type": "code",
   "execution_count": 1,
   "metadata": {},
   "outputs": [],
   "source": [
    "import os\n",
    "from dotenv import load_dotenv\n",
    "load_dotenv('../Langchain/.env')\n",
    "\n",
    "\n",
    "os.environ['LANGCHAIN_KEY']=os.getenv(\"LANGCHAIN_KEY\")\n",
    "os.environ['LANGCHAIN_PROJECT']=os.getenv(\"LANGCHAIN_PROJECT\")\n",
    "os.environ['LANGCHAIN_TRACKING_V2']='true'"
   ]
  },
  {
   "cell_type": "code",
   "execution_count": null,
   "metadata": {},
   "outputs": [],
   "source": []
  },
  {
   "cell_type": "code",
   "execution_count": 2,
   "metadata": {},
   "outputs": [],
   "source": [
    "from langchain_community.llms import Ollama\n",
    "from langchain_core.prompts import ChatPromptTemplate\n",
    "from langchain_core.output_parsers import StrOutputParser"
   ]
  },
  {
   "cell_type": "code",
   "execution_count": 3,
   "metadata": {},
   "outputs": [],
   "source": [
    "prompt=ChatPromptTemplate.from_messages(\n",
    "    [\n",
    "        ('system','Your are a helpfull assistant.Please respond to the question asked'),\n",
    "        (\"user\",\"question:{question}\")\n",
    "    ]\n",
    ")"
   ]
  },
  {
   "cell_type": "code",
   "execution_count": 3,
   "metadata": {},
   "outputs": [
    {
     "name": "stderr",
     "output_type": "stream",
     "text": [
      "C:\\Users\\sures\\AppData\\Local\\Temp\\ipykernel_22212\\1456433932.py:1: LangChainDeprecationWarning: The class `Ollama` was deprecated in LangChain 0.3.1 and will be removed in 1.0.0. An updated version of the class exists in the :class:`~langchain-ollama package and should be used instead. To use it run `pip install -U :class:`~langchain-ollama` and import as `from :class:`~langchain_ollama import OllamaLLM``.\n",
      "  model=Ollama(model='gemma2:2b')\n"
     ]
    }
   ],
   "source": [
    "model=Ollama(model='gemma2:2b')"
   ]
  },
  {
   "cell_type": "code",
   "execution_count": 7,
   "metadata": {},
   "outputs": [],
   "source": [
    "output_par=StrOutputParser()\n",
    "chain=prompt|model|output_par"
   ]
  },
  {
   "cell_type": "code",
   "execution_count": 8,
   "metadata": {},
   "outputs": [
    {
     "data": {
      "text/plain": [
       "'Thalaiva Vijay, often referred to as \"Thalapathy,\" is a prominent figure in Indian cinema! \\n\\nHere\\'s what I can tell you about him:\\n\\n**About Thalapathy Vijay:**\\n\\n* **Full Name:**  Vijay Devarakonda (He uses his real name and the title for himself)\\n* **Profession:** Actor, Film producer\\n* **Origin:**  From Chennai, India. \\n* **Known For:** Known for his action-packed roles in Tamil cinema, he is considered one of the most popular actors currently in the industry.\\n\\n**Popular Films & Acclaim:**\\n\\n* He has acted in numerous blockbuster movies like *Theri*, *Mahanati*,  *Sarkar*, *Kaththi*, and many more. \\n* He\\'s a renowned actor known for his incredible acting, charismatic screen presence, dance skills, and the ability to pull off action-packed roles! \\n\\n**Want to learn more?** I can tell you about:\\n\\n* His filmography (list of films)\\n* Awards and recognition he has received.\\n* The kind of movies he tends to do.\\n* Other trivia about him!\\n\\n\\nLet me know what you\\'d like to explore about Thalapathy Vijay.  🙌 \\n'"
      ]
     },
     "execution_count": 8,
     "metadata": {},
     "output_type": "execute_result"
    }
   ],
   "source": [
    "text='thalapathy vijay'\n",
    "chain.invoke({\"question\":text})"
   ]
  },
  {
   "cell_type": "code",
   "execution_count": null,
   "metadata": {},
   "outputs": [],
   "source": []
  }
 ],
 "metadata": {
  "kernelspec": {
   "display_name": "Python 3",
   "language": "python",
   "name": "python3"
  },
  "language_info": {
   "codemirror_mode": {
    "name": "ipython",
    "version": 3
   },
   "file_extension": ".py",
   "mimetype": "text/x-python",
   "name": "python",
   "nbconvert_exporter": "python",
   "pygments_lexer": "ipython3",
   "version": "3.10.0"
  }
 },
 "nbformat": 4,
 "nbformat_minor": 2
}
