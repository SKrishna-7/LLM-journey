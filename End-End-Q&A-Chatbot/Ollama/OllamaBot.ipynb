{
 "cells": [
  {
   "cell_type": "code",
   "execution_count": 1,
   "metadata": {},
   "outputs": [],
   "source": [
    "from langchain_community.llms import Ollama"
   ]
  },
  {
   "cell_type": "code",
   "execution_count": 9,
   "metadata": {},
   "outputs": [],
   "source": [
    "model=Ollama(model='gemma2:2b')\n"
   ]
  },
  {
   "cell_type": "code",
   "execution_count": 16,
   "metadata": {},
   "outputs": [],
   "source": [
    "from langchain_core.prompts import ChatPromptTemplate\n",
    "\n",
    "prompts=ChatPromptTemplate.from_messages(\n",
    "    [\n",
    "        ('system','You are my assistant,so answer for my quieres'),\n",
    "        ('human','Question: {questions}')\n",
    "    ]\n",
    ")"
   ]
  },
  {
   "cell_type": "code",
   "execution_count": 13,
   "metadata": {},
   "outputs": [
    {
     "data": {
      "text/plain": [
       "ChatPromptTemplate(input_variables=['questions'], input_types={}, partial_variables={}, messages=[SystemMessagePromptTemplate(prompt=PromptTemplate(input_variables=[], input_types={}, partial_variables={}, template='You are my assistant,so answer for my quieres in tamil'), additional_kwargs={}), HumanMessagePromptTemplate(prompt=PromptTemplate(input_variables=['questions'], input_types={}, partial_variables={}, template='Question: {questions}'), additional_kwargs={})])"
      ]
     },
     "execution_count": 13,
     "metadata": {},
     "output_type": "execute_result"
    }
   ],
   "source": [
    "prompts"
   ]
  },
  {
   "cell_type": "code",
   "execution_count": null,
   "metadata": {},
   "outputs": [
    {
     "data": {
      "text/plain": [
       "'Hi! 👋  How can I help you today? 😊 \\n'"
      ]
     },
     "execution_count": 19,
     "metadata": {},
     "output_type": "execute_result"
    }
   ],
   "source": [
    "# model.invoke(prompts.invoke({\"questions\":'hi'}))"
   ]
  },
  {
   "cell_type": "code",
   "execution_count": 47,
   "metadata": {},
   "outputs": [],
   "source": [
    "from langchain_core.output_parsers import StrOutputParser\n",
    "\n",
    "parser=StrOutputParser()"
   ]
  },
  {
   "cell_type": "code",
   "execution_count": 48,
   "metadata": {},
   "outputs": [],
   "source": [
    "chain=prompts|model|parser\n",
    "\n",
    "response = chain.invoke({'questions':\"write about Trump \"})"
   ]
  },
  {
   "cell_type": "code",
   "execution_count": 49,
   "metadata": {},
   "outputs": [
    {
     "name": "stdout",
     "output_type": "stream",
     "text": [
      "Donald Trump is a highly controversial figure in American politics and society. Here's a breakdown of key aspects to consider when thinking about him:\n",
      "\n",
      "**Political Career:**\n",
      "\n",
      "* **Businessman:** Before entering politics, he built a vast business empire across real estate, entertainment, and media. This experience shaped his worldview and approach to leadership.\n",
      "* **Presidency (2017-2021):** Trump served as the 45th President of the United States. His presidency was marked by:\n",
      "    * **Political Polarization:** He often used inflammatory rhetoric and stirred divisions between Democrats and Republicans.\n",
      "    * **Economic Policies:**  His administration implemented tax cuts, deregulation policies, and trade agreements that had both positive and negative impacts on the US economy. \n",
      "    * **Foreign Policy:** He pursued \"America First\" policies in international affairs, withdrawing from international agreements like the Paris Climate Accord and negotiating trade deals with North Korea and other countries.\n",
      "    * **Social Policies:**  He took stances on issues like immigration, healthcare, and climate change that were highly debated, leading to protests and political polarization. \n",
      "\n",
      "**Public Image:**\n",
      "\n",
      "* **Media Presence:** Trump was a master of media manipulation, using social media to communicate directly with his supporters and bypass traditional news outlets. This led to both praise for directness and criticism for misinformation and conspiracy theories.\n",
      "* **Populist Appeal:** He tapped into the anxieties of working-class Americans who felt left behind by globalization and economic changes, leading him to build a strong base of support among these voters. \n",
      "* **Controversial Persona:**  He's known for his outspoken personality, making many accusations against opponents, and using derogatory language, which led to widespread criticism and calls for accountability.\n",
      "\n",
      "**Legacy:**\n",
      "\n",
      "* **Enduring Impact:** His presidency continues to be debated by political commentators and scholars, with ongoing analyses of his policies, their effects, and potential lasting influence on American politics. \n",
      "* **Polarizing Figure:**  He remains a divisive figure in the US public eye, sparking intense discussions about race, gender, national identity, and political ideologies.\n",
      "\n",
      "**Where to Learn More:**\n",
      "\n",
      "To gain a deeper understanding, you can explore these resources: \n",
      "\n",
      "* **News Sources:** Reputable news organizations like The New York Times, The Washington Post, BBC News, and NPR offer in-depth reporting on Trump's presidency and legacy.\n",
      "* **Scholarly Articles:**  Academic journals publish articles analyzing Trump's policies, rhetoric, and impact, offering more nuanced perspectives. \n",
      "* **Historical Documents & Reports:**  Government documents released during his administration can provide insights into specific policy decisions and their consequences.\n",
      "\n",
      " Remember to approach this complex subject with an open mind, critically evaluating different viewpoints and forming your own conclusions based on reliable information and analysis.\n",
      "\n",
      "\n",
      "Let me know if you have more questions! \n",
      "\n"
     ]
    }
   ],
   "source": [
    "print(response)\n"
   ]
  },
  {
   "cell_type": "code",
   "execution_count": null,
   "metadata": {},
   "outputs": [],
   "source": []
  },
  {
   "cell_type": "code",
   "execution_count": null,
   "metadata": {},
   "outputs": [],
   "source": []
  },
  {
   "cell_type": "code",
   "execution_count": null,
   "metadata": {},
   "outputs": [],
   "source": []
  },
  {
   "cell_type": "code",
   "execution_count": null,
   "metadata": {},
   "outputs": [],
   "source": []
  },
  {
   "cell_type": "code",
   "execution_count": null,
   "metadata": {},
   "outputs": [],
   "source": []
  },
  {
   "cell_type": "code",
   "execution_count": null,
   "metadata": {},
   "outputs": [],
   "source": []
  },
  {
   "cell_type": "code",
   "execution_count": null,
   "metadata": {},
   "outputs": [],
   "source": []
  },
  {
   "cell_type": "code",
   "execution_count": null,
   "metadata": {},
   "outputs": [],
   "source": []
  }
 ],
 "metadata": {
  "kernelspec": {
   "display_name": "Python 3",
   "language": "python",
   "name": "python3"
  },
  "language_info": {
   "codemirror_mode": {
    "name": "ipython",
    "version": 3
   },
   "file_extension": ".py",
   "mimetype": "text/x-python",
   "name": "python",
   "nbconvert_exporter": "python",
   "pygments_lexer": "ipython3",
   "version": "3.10.0"
  }
 },
 "nbformat": 4,
 "nbformat_minor": 2
}
